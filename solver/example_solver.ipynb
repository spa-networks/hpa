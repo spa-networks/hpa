{
 "cells": [
  {
   "cell_type": "code",
   "execution_count": 1,
   "metadata": {
    "collapsed": true
   },
   "outputs": [],
   "source": [
    "import solver\n",
    "import numpy as np"
   ]
  },
  {
   "cell_type": "markdown",
   "metadata": {},
   "source": [
    "## Generalized PA equation"
   ]
  },
  {
   "cell_type": "markdown",
   "metadata": {},
   "source": [
    "This solver implements the generalized PA equation\n",
    "\n",
    " $$N_k(t+1) = N_k(t) + B\\delta_{k,1} + \\frac{G}{(B+G)t + K_0} [(k-1)N_{k-1}(t) - k N_k(t)],$$\n",
    " \n",
    "where $N_k(t)$ counts the number of elements with $k$ shares of the total resource $K(t)=t + K_0$ at time $t$, where $B$ is the birth rate and $G$ is the growth rate.\n",
    "\n",
    "This equation works for abritrary $B,G,K_0$.\n",
    "So we can test the equation right away, starting from the condition $N_0(t=0)=0$ and $N_1(t=0)=1$."
   ]
  },
  {
   "cell_type": "code",
   "execution_count": 2,
   "metadata": {
    "collapsed": true
   },
   "outputs": [],
   "source": [
    "state = np.array([0, 1])\n",
    "birth_rate = 2\n",
    "growth_rate = 1\n",
    "for t in range(1, 10):\n",
    "    state = solver.update_preferential_attachment(state, birth_rate, growth_rate, t)"
   ]
  },
  {
   "cell_type": "markdown",
   "metadata": {},
   "source": [
    "Let's plot the (unormalized) mean field solution after 10 time steps."
   ]
  },
  {
   "cell_type": "code",
   "execution_count": 3,
   "metadata": {
    "collapsed": false
   },
   "outputs": [],
   "source": [
    "import matplotlib.pyplot as plt\n",
    "import seaborn as sns  # for style, comment if unavailable\n",
    "%matplotlib inline\n",
    "sns.set_style('ticks')"
   ]
  },
  {
   "cell_type": "code",
   "execution_count": 4,
   "metadata": {
    "collapsed": false
   },
   "outputs": [
    {
     "data": {
      "text/plain": [
       "[<matplotlib.lines.Line2D at 0x7f06f68077f0>]"
      ]
     },
     "execution_count": 4,
     "metadata": {},
     "output_type": "execute_result"
    },
    {
     "data": {
      "image/png": "[encoded data removed]",
      "text/plain": [
       "<matplotlib.figure.Figure at 0x7f072c0090b8>"
      ]
     },
     "metadata": {},
     "output_type": "display_data"
    }
   ],
   "source": [
    "plt.loglog(state)"
   ]
  },
  {
   "cell_type": "markdown",
   "metadata": {},
   "source": [
    "And a few more iterations will allows us to converge nicely"
   ]
  },
  {
   "cell_type": "code",
   "execution_count": 5,
   "metadata": {
    "collapsed": false
   },
   "outputs": [
    {
     "data": {
      "image/png": "[encoded data removed]",
      "text/plain": [
       "<matplotlib.figure.Figure at 0x7f06f670de10>"
      ]
     },
     "metadata": {},
     "output_type": "display_data"
    }
   ],
   "source": [
    "for t in range(10, 100):\n",
    "    state = solver.update_preferential_attachment(state, birth_rate, growth_rate, t)\n",
    "\n",
    "plt.loglog(state);"
   ]
  },
  {
   "cell_type": "markdown",
   "metadata": {},
   "source": [
    "## Automated rate computation"
   ]
  },
  {
   "cell_type": "markdown",
   "metadata": {},
   "source": [
    "Now, the interesting part of the `solver` module is all the birth / growth computations."
   ]
  },
  {
   "cell_type": "markdown",
   "metadata": {},
   "source": [
    "For example, if we have a $d=3$ HPA structure with the parameters used in Fig. 4 of Hébert-Dufresne et al. PRE 92, 062809 (2016), $\\vec{p} = (0, 0.0005, 0.185, 0.385, 0)$ and $\\vec{q} = (0.8, 0.6, 0.5, 1, 0)$, then the structural / nodal rates of growh / birth are immediately given by the module:"
   ]
  },
  {
   "cell_type": "code",
   "execution_count": 6,
   "metadata": {
    "collapsed": false
   },
   "outputs": [
    {
     "name": "stdout",
     "output_type": "stream",
     "text": [
      "Structural birth rate\n",
      " [  0.00000000e+00   5.00000000e-04   1.85407500e-01   4.99025612e-01\n",
      "   1.00000000e+00]\n",
      "Structural growth rate\n",
      " [  5.00000000e-04   1.84907500e-01   3.13618112e-01   5.00974388e-01\n",
      "   0.00000000e+00]\n",
      "Nodal birth rate\n",
      " [ 0.37428703  0.37428703  0.37428703  0.37428703  0.37428703]\n",
      "Nodal growth rate\n",
      " [ 0.          0.09357176  0.40426884  0.62571297  0.62571297]\n"
     ]
    }
   ],
   "source": [
    "p = np.array([0, 0.0005, 0.185, 0.385, 1])\n",
    "q = np.array([0.80, 0.60, 0.50, 1, 0])\n",
    "\n",
    "\n",
    "sb = solver.get_sb(p)\n",
    "sg = solver.get_sg(p)\n",
    "q_prime = solver.get_q_prime(q, sb, sg)\n",
    "r = solver.get_r(q_prime, p)\n",
    "ng = solver.get_ng(r)\n",
    "nb = solver.get_nb(r, q)\n",
    "\n",
    "print(\"Structural birth rate\\n\", sb)\n",
    "print(\"Structural growth rate\\n\", sg)\n",
    "print(\"Nodal birth rate\\n\", nb)\n",
    "print(\"Nodal growth rate\\n\", ng)"
   ]
  },
  {
   "cell_type": "markdown",
   "metadata": {},
   "source": [
    "## Complete HPA solutions"
   ]
  },
  {
   "cell_type": "markdown",
   "metadata": {},
   "source": [
    "The above rates can be We can solve the generalized PA equations for level $k=1,2,3$ separately and re-obtain Fig.4."
   ]
  },
  {
   "cell_type": "code",
   "execution_count": null,
   "metadata": {
    "collapsed": false
   },
   "outputs": [],
   "source": [
    "init = np.array([0,1])\n",
    "n  = [init.copy() for i in range(3)]\n",
    "s  = [init.copy() for i in range(3)]\n",
    "t_max = 1000\n",
    "\n",
    "for t in range(1, t_max):\n",
    "    for k in [1, 2, 3]:\n",
    "        s[k - 1] = solver.update_preferential_attachment(s[k - 1], sb[k], sg[k], t)\n",
    "        n[k - 1] = solver.update_preferential_attachment(n[k - 1], nb[k], ng[k], t)"
   ]
  },
  {
   "cell_type": "code",
   "execution_count": null,
   "metadata": {
    "collapsed": false
   },
   "outputs": [],
   "source": [
    "plt.figure(figsize=(10,3))\n",
    "\n",
    "plt.subplot(1,2,1)\n",
    "for k in [1,2,3]:\n",
    "    plt.loglog(n[k - 1] / sum(n[k - 1]), label=\"$k=\" + str(k) + \"$\")\n",
    "plt.xlabel('$m$')\n",
    "plt.ylabel('$\\\\tilde{N}_{k,m}$')\n",
    "plt.ylim(1e-6,1)\n",
    "plt.legend(loc=1)\n",
    "\n",
    "plt.subplot(1,2,2)\n",
    "for k in [1,2,3]:\n",
    "    plt.loglog(s[k - 1] / sum(s[k - 1]), label=\"$k=\" + str(k) + \"$\")\n",
    "plt.xlabel('$n$')\n",
    "plt.ylabel('$\\\\tilde{S}_{k,n}$')\n",
    "plt.ylim(1e-6,1)\n",
    "plt.legend(loc=3)\n",
    "\n",
    "plt.tight_layout(pad=2)"
   ]
  },
  {
   "cell_type": "markdown",
   "metadata": {
    "collapsed": false
   },
   "source": [
    "Et *voilà*!"
   ]
  }
 ],
 "metadata": {
  "kernelspec": {
   "display_name": "Python 3",
   "language": "python",
   "name": "python3"
  },
  "language_info": {
   "codemirror_mode": {
    "name": "ipython",
    "version": 3
   },
   "file_extension": ".py",
   "mimetype": "text/x-python",
   "name": "python",
   "nbconvert_exporter": "python",
   "pygments_lexer": "ipython3",
   "version": "3.5.1"
  }
 },
 "nbformat": 4,
 "nbformat_minor": 0
}
